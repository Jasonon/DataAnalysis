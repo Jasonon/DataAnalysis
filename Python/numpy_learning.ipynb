{
 "cells": [
  {
   "cell_type": "markdown",
   "metadata": {},
   "source": [
    "### 一、Numpy学习"
   ]
  },
  {
   "cell_type": "markdown",
   "metadata": {},
   "source": [
    "#### 1、creating_ndarray\n",
    "NumPy的ndarray：一种多维数组对象"
   ]
  },
  {
   "cell_type": "code",
   "execution_count": null,
   "metadata": {
    "collapsed": true
   },
   "outputs": [],
   "source": [
    "import numpy as np"
   ]
  },
  {
   "cell_type": "code",
   "execution_count": null,
   "metadata": {},
   "outputs": [],
   "source": [
    "#①使用普通一维数组生成NumPy一维数组\n",
    "data = [1,2,3,4,5,6]\n",
    "arr = np.array(data)\n",
    "print(type(arr))\n",
    "print('元素类型>>>',arr.dtype)"
   ]
  },
  {
   "cell_type": "code",
   "execution_count": null,
   "metadata": {},
   "outputs": [],
   "source": [
    "# ②使用普通二维数组生成NumPy二维数组\n",
    "data = [[1,2,3,4],[5,6,7,8]]\n",
    "arr = np.array(data)\n",
    "print(arr,'数组维度>>>',arr.shape)"
   ]
  },
  {
   "cell_type": "code",
   "execution_count": null,
   "metadata": {},
   "outputs": [],
   "source": [
    "# ③使用zeros/empty\n",
    "print(np.zeros(6)) # 生成包含6个0的一维数组\n",
    "print(np.zeros((3,4))) # 生成3*4的二维数组\n",
    "print (np.empty((2, 3, 2))) # 生成2*3*2的三维数组，所有元素未初始化。"
   ]
  },
  {
   "cell_type": "code",
   "execution_count": null,
   "metadata": {},
   "outputs": [],
   "source": [
    "# ④使用arange生成连续元素\n",
    "print(np.arange(6))"
   ]
  },
  {
   "cell_type": "markdown",
   "metadata": {},
   "source": [
    "#### 2、data_types_for_ndarray"
   ]
  },
  {
   "cell_type": "code",
   "execution_count": null,
   "metadata": {},
   "outputs": [],
   "source": [
    "# ①生成数组时指定数据类型\n",
    "arr = np.array([1,2,3,4],dtype=np.float64)\n",
    "arr2 = np.array([1,2,3],dtype=np.int32)\n",
    "print(arr.dtype,arr2.dtype)"
   ]
  },
  {
   "cell_type": "code",
   "execution_count": null,
   "metadata": {},
   "outputs": [],
   "source": [
    "# ②使用astype复制数组并转换数据类型\n",
    "int_arr = np.array([1,2,3,4],dtype=np.int32)\n",
    "float_arr = int_arr.astype(np.float)\n",
    "print(int_arr)\n",
    "print('int_arr数组类型>',int_arr.dtype,'float_arr数组类型>',float_arr.dtype)"
   ]
  },
  {
   "cell_type": "code",
   "execution_count": null,
   "metadata": {},
   "outputs": [],
   "source": [
    "# ③使用astype将float转换为int时小数部分被舍弃\n",
    "float_arr = np.array([2.3,1.5,4.7,-6.3,-3.8])\n",
    "int_arr = float_arr.astype(dtype=np.int)\n",
    "print(int_arr)"
   ]
  },
  {
   "cell_type": "code",
   "execution_count": null,
   "metadata": {},
   "outputs": [],
   "source": [
    "# ④使用astype把字符串转换为数组，如果失败抛出异常\n",
    "str_arr = np.array(['1.25','-8.3','9.99','34'],dtype=np.string_)\n",
    "float_arr = str_arr.astype(np.float)\n",
    "float_arr"
   ]
  },
  {
   "cell_type": "code",
   "execution_count": null,
   "metadata": {
    "collapsed": true
   },
   "outputs": [],
   "source": [
    "# ⑤stype使用其它数组的数据类型作为参数\n",
    "int_arr = np.arange(10)\n",
    "float_arr = np.array([0.34,1.21,456.4,0.5],dtype=np.float64)\n",
    "print(int_arr.astype(float_arr.dtype))\n",
    "print(int_arr[0],int_arr[1])"
   ]
  },
  {
   "cell_type": "markdown",
   "metadata": {},
   "source": [
    "#### 3、operations_between_arrays"
   ]
  },
  {
   "cell_type": "code",
   "execution_count": null,
   "metadata": {},
   "outputs": [],
   "source": [
    "# ①数组乘法、减法，对应元素相乘、相减\n",
    "arr =np.array([[1.0,2.0,3.0],[4.,5.,6.]])\n",
    "print(arr*arr)\n",
    "print(arr-arr)\n"
   ]
  },
  {
   "cell_type": "code",
   "execution_count": null,
   "metadata": {},
   "outputs": [],
   "source": [
    "# ②标量操作作用在数组的每个元素上\n",
    "arr =np.array([[1.0,2.0,3.0],[4.,5.,6.]])\n",
    "print(1/arr)"
   ]
  },
  {
   "cell_type": "markdown",
   "metadata": {},
   "source": [
    "#### 4、basic_indexing_slicing"
   ]
  },
  {
   "cell_type": "code",
   "execution_count": null,
   "metadata": {},
   "outputs": [],
   "source": [
    "# ①通过索引访问二维数组某一行或某个元素\n",
    "arr = np.array([[1,2,3],[4,5,6],[7,8,9]])\n",
    "print(arr)\n",
    "print(arr[2])\n",
    "print(arr[2][0])\n",
    "print(arr[2,0]) # 普通Python数组不能用"
   ]
  },
  {
   "cell_type": "code",
   "execution_count": null,
   "metadata": {},
   "outputs": [],
   "source": [
    "# ②更高维数组的访问和操作\n",
    "arr = np.array([[[1, 2, 3], [4, 5, 6]], [[7, 8, 9], [10, 11, 12]]])\n",
    "print(arr)\n",
    "print(arr[0]) # 结果是个2维数组\n",
    "print(arr[1,0])\n",
    "new_values = arr[0].copy()\n",
    "print('new_values',new_values)"
   ]
  },
  {
   "cell_type": "code",
   "execution_count": null,
   "metadata": {},
   "outputs": [],
   "source": [
    "# ③使用切片访问和操作数组\n",
    "arr1 = np.array([0,1,2,3,4,5,6,7,8,9,10])\n",
    "arr2 = np.array([[1,2,3],[4,5,6],[7,8,9],[10,11,12]])\n",
    "print(arr1[1:6])\n",
    "print(arr2[:2,1:]) #第1、2行，第2、3列\n",
    "print(arr2[:,:1]) \n",
    "arr2[:2,1:] = 0 # 第1、2行，第2、3列的元素设置为0\n",
    "print(arr2)"
   ]
  },
  {
   "cell_type": "markdown",
   "metadata": {},
   "source": [
    "#### 5、boolean_indexing"
   ]
  },
  {
   "cell_type": "code",
   "execution_count": null,
   "metadata": {
    "collapsed": true
   },
   "outputs": [],
   "source": [
    "import numpy.random as np_random"
   ]
  },
  {
   "cell_type": "code",
   "execution_count": null,
   "metadata": {},
   "outputs": [],
   "source": [
    "name_arr = np.array(['Bob', 'Joe', 'Will', 'Bob', 'Will', 'Joe', 'Joe'])\n",
    "rd_arr = np.random.randn(7,4) # 随机7*4数组\n",
    "print(rd_arr)"
   ]
  },
  {
   "cell_type": "code",
   "execution_count": null,
   "metadata": {},
   "outputs": [],
   "source": [
    "print(name_arr =='Bob') # 返回布尔数组，元素等于'Bob'为True，否则False。"
   ]
  },
  {
   "cell_type": "code",
   "execution_count": null,
   "metadata": {},
   "outputs": [],
   "source": [
    "print(rd_arr[name_arr=='Bob']) # 利用布尔数组选择行"
   ]
  },
  {
   "cell_type": "code",
   "execution_count": null,
   "metadata": {},
   "outputs": [],
   "source": [
    "print(rd_arr[name_arr == 'Bob',:2]) # 增加限制打印列的范围"
   ]
  },
  {
   "cell_type": "code",
   "execution_count": null,
   "metadata": {},
   "outputs": [],
   "source": [
    "print(rd_arr[~(name_arr == 'Bob')]) # 对布尔数组的内容取反"
   ]
  },
  {
   "cell_type": "code",
   "execution_count": null,
   "metadata": {},
   "outputs": [],
   "source": [
    "mask_arr = (name_arr=='Bob')| (name_arr=='Will')\n",
    "print(mask_arr)\n",
    "print(rd_arr[mask_arr])"
   ]
  },
  {
   "cell_type": "code",
   "execution_count": null,
   "metadata": {},
   "outputs": [],
   "source": [
    "# 先布尔数组选择行，然后把每行的元素设置为7\n",
    "rd_arr[name_arr !='Joe'] = 7 \n",
    "print(rd_arr)"
   ]
  },
  {
   "cell_type": "markdown",
   "metadata": {},
   "source": [
    "#### 6、fancy_indexing"
   ]
  },
  {
   "cell_type": "code",
   "execution_count": 54,
   "metadata": {},
   "outputs": [
    {
     "name": "stdout",
     "output_type": "stream",
     "text": [
      "[[ 0.  0.  0.  0.]\n",
      " [ 0.  0.  0.  0.]\n",
      " [ 0.  0.  0.  0.]\n",
      " [ 0.  0.  0.  0.]\n",
      " [ 0.  0.  0.  0.]\n",
      " [ 0.  0.  0.  0.]\n",
      " [ 0.  0.  0.  0.]\n",
      " [ 0.  0.  0.  0.]]\n",
      "[[ 0.  0.  0.  0.]\n",
      " [ 1.  1.  1.  1.]\n",
      " [ 2.  2.  2.  2.]\n",
      " [ 3.  3.  3.  3.]\n",
      " [ 4.  4.  4.  4.]\n",
      " [ 5.  5.  5.  5.]\n",
      " [ 6.  6.  6.  6.]\n",
      " [ 7.  7.  7.  7.]]\n"
     ]
    }
   ],
   "source": [
    "# Fancy Indexing: 使用整数数组作为索引\n",
    "fancy_arr = np.empty((8,4))\n",
    "print(fancy_arr)\n",
    "for i in range(8):\n",
    "    fancy_arr[i] = i\n",
    "print(fancy_arr)"
   ]
  },
  {
   "cell_type": "code",
   "execution_count": 55,
   "metadata": {},
   "outputs": [
    {
     "name": "stdout",
     "output_type": "stream",
     "text": [
      "[[ 4.  4.  4.  4.]\n",
      " [ 3.  3.  3.  3.]\n",
      " [ 0.  0.  0.  0.]\n",
      " [ 6.  6.  6.  6.]]\n"
     ]
    }
   ],
   "source": [
    "print (fancy_arr[[4, 3, 0, 6]]) # 打印arr[4]、arr[3]、arr[0]和arr[6]"
   ]
  },
  {
   "cell_type": "code",
   "execution_count": 56,
   "metadata": {},
   "outputs": [
    {
     "name": "stdout",
     "output_type": "stream",
     "text": [
      "[[ 0  1  2  3]\n",
      " [ 4  5  6  7]\n",
      " [ 8  9 10 11]\n",
      " [12 13 14 15]\n",
      " [16 17 18 19]\n",
      " [20 21 22 23]\n",
      " [24 25 26 27]\n",
      " [28 29 30 31]]\n"
     ]
    }
   ],
   "source": [
    "fancy_arr = np.arange(32).reshape((8, 4))  # 通过reshape变换成二维数组\n",
    "print(fancy_arr)"
   ]
  },
  {
   "cell_type": "code",
   "execution_count": 57,
   "metadata": {},
   "outputs": [
    {
     "name": "stdout",
     "output_type": "stream",
     "text": [
      "[ 4 23 29 10]\n"
     ]
    }
   ],
   "source": [
    "print (fancy_arr[[1, 5, 7, 2], [0, 3, 1, 2]]) # 打印arr[1, 0]、arr[5, 3]，arr[7, 1]和arr[2, 2]"
   ]
  },
  {
   "cell_type": "code",
   "execution_count": 59,
   "metadata": {},
   "outputs": [
    {
     "name": "stdout",
     "output_type": "stream",
     "text": [
      "[[ 4  7  5  6]\n",
      " [20 23 21 22]\n",
      " [28 31 29 30]\n",
      " [ 8 11  9 10]]\n"
     ]
    }
   ],
   "source": [
    "print (fancy_arr[[1, 5, 7, 2]][:, [0, 3, 1, 2]])  # 1572行的0312列"
   ]
  },
  {
   "cell_type": "code",
   "execution_count": 60,
   "metadata": {},
   "outputs": [
    {
     "name": "stdout",
     "output_type": "stream",
     "text": [
      "[[ 4  7  5  6]\n",
      " [20 23 21 22]\n",
      " [28 31 29 30]\n",
      " [ 8 11  9 10]]\n"
     ]
    }
   ],
   "source": [
    "print (fancy_arr[np.ix_([1, 5, 7, 2], [0, 3, 1, 2])]) # 可读性更好的写法"
   ]
  },
  {
   "cell_type": "markdown",
   "metadata": {},
   "source": [
    "#### 7、transposing_arrays_and_swapping_axes"
   ]
  },
  {
   "cell_type": "code",
   "execution_count": 61,
   "metadata": {
    "collapsed": true
   },
   "outputs": [],
   "source": [
    "import numpy.random as np_random"
   ]
  },
  {
   "cell_type": "code",
   "execution_count": 63,
   "metadata": {},
   "outputs": [
    {
     "name": "stdout",
     "output_type": "stream",
     "text": [
      "[[ 0  1  2  3  4]\n",
      " [ 5  6  7  8  9]\n",
      " [10 11 12 13 14]]\n",
      "[[ 0  5 10]\n",
      " [ 1  6 11]\n",
      " [ 2  7 12]\n",
      " [ 3  8 13]\n",
      " [ 4  9 14]]\n"
     ]
    }
   ],
   "source": [
    "# ①转置矩阵\n",
    "t_arr = np.arange(15).reshape(3,5)\n",
    "print(t_arr)\n",
    "print(t_arr.T)"
   ]
  },
  {
   "cell_type": "code",
   "execution_count": 65,
   "metadata": {},
   "outputs": [
    {
     "name": "stdout",
     "output_type": "stream",
     "text": [
      "[[ 0.66640816 -0.53513237 -0.09530539]\n",
      " [-1.33650508  0.96972534  0.33087732]\n",
      " [-2.57316945  1.50828936 -0.40389448]\n",
      " [ 0.29634342 -0.38981354 -0.0089878 ]\n",
      " [ 0.26317727  0.45799203  0.94679521]\n",
      " [ 1.1905046  -0.83695569  0.3798568 ]]\n",
      "[[ 10.42592962  -6.52512872   1.23229021]\n",
      " [ -6.52512872   4.56387681  -0.11812372]\n",
      " [  1.23229021  -0.11812372   1.32248681]]\n"
     ]
    }
   ],
   "source": [
    "# ②转置矩阵做点积\n",
    "t_arr = np.random.randn(6,3)\n",
    "print(t_arr)\n",
    "print(np.dot(t_arr.T,t_arr))"
   ]
  },
  {
   "cell_type": "code",
   "execution_count": null,
   "metadata": {
    "collapsed": true
   },
   "outputs": [],
   "source": [
    "# ③高维矩阵转换\n",
    "t_arr = np.arange(16).reshape((2, 2, 4))\n",
    "print(t_arr)\n",
    "'''\n",
    "详细解释：\n",
    "arr数组的内容为\n",
    "- a[0][0] = [0, 1, 2, 3]\n",
    "- a[0][1] = [4, 5, 6, 7]\n",
    "- a[1][0] = [8, 9, 10, 11]\n",
    "- a[1][1] = [12, 13, 14, 15]\n",
    "transpose的参数为坐标，正常顺序为(0, 1, 2, ... , n - 1)，\n",
    "现在传入的为(1, 0, 2)代表a[x][y][z] = a[y][x][z]，第0个和第1个坐标互换。\n",
    "- a'[0][0] = a[0][0] = [0, 1, 2, 3]\n",
    "- a'[0][1] = a[1][0] = [8, 9, 10, 11]\n",
    "- a'[1][0] = a[0][1] = [4, 5, 6, 7]\n",
    "- a'[1][1] = a[1][1] = [12, 13, 14, 15]\n",
    "'''\n",
    "print(arr.transpose((1, 0, 2)))\n",
    "print(arr.swapaxes(1, 2))  # 直接交换第1和第2个坐标"
   ]
  }
 ],
 "metadata": {
  "kernelspec": {
   "display_name": "Python 3",
   "language": "python",
   "name": "python3"
  },
  "language_info": {
   "codemirror_mode": {
    "name": "ipython",
    "version": 3
   },
   "file_extension": ".py",
   "mimetype": "text/x-python",
   "name": "python",
   "nbconvert_exporter": "python",
   "pygments_lexer": "ipython3",
   "version": "3.6.1"
  }
 },
 "nbformat": 4,
 "nbformat_minor": 2
}
