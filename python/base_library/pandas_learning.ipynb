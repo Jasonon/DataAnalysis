{
 "cells": [
  {
   "cell_type": "markdown",
   "metadata": {},
   "source": [
    "### pandas"
   ]
  },
  {
   "cell_type": "markdown",
   "metadata": {},
   "source": [
    "#### 1、Series"
   ]
  },
  {
   "cell_type": "code",
   "execution_count": 36,
   "metadata": {
    "collapsed": false
   },
   "outputs": [],
   "source": [
    "import numpy as np\n",
    "import pandas as pd\n",
    "from pandas import Series,DataFrame"
   ]
  },
  {
   "cell_type": "code",
   "execution_count": null,
   "metadata": {
    "collapsed": false
   },
   "outputs": [],
   "source": [
    "# ①用数组生成Series,并获取索引和数据\n",
    "obj = Series([4, 7, -5, 3])\n",
    "print(obj)\n",
    "print(obj.index)\n",
    "print(obj.values)\n",
    "print(obj.head(2))"
   ]
  },
  {
   "cell_type": "code",
   "execution_count": null,
   "metadata": {
    "collapsed": false
   },
   "outputs": [],
   "source": [
    "# ②指定Series的index\n",
    "obj2 = Series([4, 7, -5, 3], index = ['d', 'b', 'a', 'c'])\n",
    "print(obj2)"
   ]
  },
  {
   "cell_type": "code",
   "execution_count": null,
   "metadata": {
    "collapsed": false
   },
   "outputs": [],
   "source": [
    "# ③使用字典生成Series\n",
    "sdata = {'Ohio':45000, 'Texas':71000, 'Oregon':16000, 'Utah':5000}\n",
    "obj3 = Series(sdata)\n",
    "print(obj3)"
   ]
  },
  {
   "cell_type": "code",
   "execution_count": null,
   "metadata": {
    "collapsed": false
   },
   "outputs": [],
   "source": [
    "# ④使用字典生成Series，并额外指定index，不匹配部分为NaN\n",
    "states = ['California', 'Ohio', 'Oregon', 'Texas']\n",
    "obj4 = Series(sdata, index = states)\n",
    "print(obj4)"
   ]
  },
  {
   "cell_type": "code",
   "execution_count": null,
   "metadata": {
    "collapsed": false
   },
   "outputs": [],
   "source": [
    "# ⑤Series相加，相同索引部分相加\n",
    "print(obj3 + obj4)"
   ]
  },
  {
   "cell_type": "code",
   "execution_count": null,
   "metadata": {
    "collapsed": false
   },
   "outputs": [],
   "source": [
    "# ⑥指定Series及其索引的名字\n",
    "obj4.name = 'population'\n",
    "obj4.index.name = 'state'\n",
    "print(obj4)"
   ]
  },
  {
   "cell_type": "code",
   "execution_count": null,
   "metadata": {
    "collapsed": false
   },
   "outputs": [],
   "source": [
    "# ⑦替换index\n",
    "obj.index = ['Bob', 'Steve', 'Jeff', 'Ryan']\n",
    "print(obj)"
   ]
  },
  {
   "cell_type": "markdown",
   "metadata": {},
   "source": [
    "#### 2、DataFrame"
   ]
  },
  {
   "cell_type": "code",
   "execution_count": null,
   "metadata": {
    "collapsed": false
   },
   "outputs": [],
   "source": [
    "# ①用字典生成DataFrame，key为列的名字\n",
    "data = {'state':['Ohio', 'Ohio', 'Ohio', 'Nevada', 'Nevada'],\n",
    "         'year':[2000, 2001, 2002, 2001, 2002],\n",
    "         'pop':[1.5, 1.7, 3.6, 2.4, 2.9]}\n",
    "print(DataFrame(data))\n",
    "print(DataFrame(data, columns = ['year', 'state', 'pop'])) # 指定列顺序"
   ]
  },
  {
   "cell_type": "code",
   "execution_count": null,
   "metadata": {
    "collapsed": false
   },
   "outputs": [],
   "source": [
    "# ②指定索引，在列中指定不存在的列，默认数据用NaN\n",
    "frame2 = DataFrame(data,\n",
    "                    columns = ['year', 'state', 'pop', 'debt'],\n",
    "                    index = ['one', 'two', 'three', 'four', 'five'])\n",
    "# print(frame2)\n",
    "# print(frame2['state'])\n",
    "# print(frame2.year)\n",
    "# print(frame2.ix['three'])\n",
    "# frame2['debt'] = 16.5 # 修改一整列\n",
    "frame2.debt = np.arange(5)  # 用numpy数组修改元素\n",
    "print(frame2)"
   ]
  },
  {
   "cell_type": "code",
   "execution_count": null,
   "metadata": {
    "collapsed": false
   },
   "outputs": [],
   "source": [
    "# ③用Series指定要修改的索引及其对应的值，没有指定的默认数据用NaN\n",
    "print(frame2)\n",
    "val = Series([-1.2, -1.5, -1.7], index = ['two', 'four', 'five'])\n",
    "frame2['debt'] = val\n",
    "print(frame2)"
   ]
  },
  {
   "cell_type": "code",
   "execution_count": null,
   "metadata": {
    "collapsed": false
   },
   "outputs": [],
   "source": [
    "# ④赋值给新列\n",
    "frame2['eastern'] = (frame2.state == 'Ohio')  # 如果state等于Ohio为True\n",
    "print(frame2)\n",
    "print(frame2.columns)"
   ]
  },
  {
   "cell_type": "code",
   "execution_count": null,
   "metadata": {
    "collapsed": false
   },
   "outputs": [],
   "source": [
    "# ⑤DataFrame转置\n",
    "pop = {'Nevada':{2001:2.4, 2002:2.9},\n",
    "        'Ohio':{2000:1.5, 2001:1.7, 2002:3.6}}\n",
    "frame3 = DataFrame(pop)\n",
    "print(frame3)\n",
    "print(frame3.T)"
   ]
  },
  {
   "cell_type": "code",
   "execution_count": null,
   "metadata": {
    "collapsed": false
   },
   "outputs": [],
   "source": [
    "# ⑥指定索引顺序，以及使用切片初始化数据\n",
    "print(DataFrame(pop, index = [2001, 2002, 2003]))\n",
    "print(frame3['Ohio'][:-1])\n",
    "print(frame3['Nevada'][:2])\n",
    "pdata = {'Ohio':frame3['Ohio'][:-1], 'Nevada':frame3['Nevada'][:2]}\n",
    "print(DataFrame(pdata))"
   ]
  },
  {
   "cell_type": "code",
   "execution_count": null,
   "metadata": {
    "collapsed": false
   },
   "outputs": [],
   "source": [
    "# ⑦指定索引和列的名称\n",
    "frame3.index.name = 'year'\n",
    "frame3.columns.name = 'state'\n",
    "print(frame3)\n",
    "print(frame3.values)\n",
    "print(frame2.values)"
   ]
  },
  {
   "cell_type": "markdown",
   "metadata": {
    "collapsed": true
   },
   "source": [
    "#### 3、pandas数据操作\n",
    "##### 3-1 重新索引"
   ]
  },
  {
   "cell_type": "code",
   "execution_count": 3,
   "metadata": {
    "collapsed": true
   },
   "outputs": [
    {
     "name": "stdout",
     "output_type": "stream",
     "text": [
      "d    4.5\n",
      "b    7.2\n",
      "a   -5.3\n",
      "c    3.6\n",
      "dtype: float64\n",
      "a   -5.3\n",
      "b    7.2\n",
      "d    4.5\n",
      "c    3.6\n",
      "e    NaN\n",
      "dtype: float64\n",
      "a   -5.3\n",
      "b    7.2\n",
      "d    4.5\n",
      "c    3.6\n",
      "e    0.0\n",
      "dtype: float64\n"
     ]
    }
   ],
   "source": [
    "# ①重新指定索引及顺序-reindex。\n",
    "print('①重新指定索引及顺序')\n",
    "obj = Series([4.5, 7.2, -5.3, 3.6], index = ['d', 'b', 'a', 'c'])\n",
    "print(obj)\n",
    "obj2 = obj.reindex(['a', 'b', 'd', 'c', 'e'])\n",
    "print(obj2)\n",
    "print(obj.reindex(['a', 'b', 'd', 'c', 'e'], fill_value = 0))  # 指定不存在元素的默认值"
   ]
  },
  {
   "cell_type": "code",
   "execution_count": 4,
   "metadata": {
    "collapsed": true
   },
   "outputs": [
    {
     "name": "stdout",
     "output_type": "stream",
     "text": [
      "②重新指定索引并指定元素填充方法\n",
      "0      blue\n",
      "1    purple\n",
      "4    yellow\n",
      "dtype: object\n",
      "0      blue\n",
      "1    purple\n",
      "2    purple\n",
      "3    purple\n",
      "4    yellow\n",
      "5    yellow\n",
      "dtype: object\n"
     ]
    }
   ],
   "source": [
    "# ②重新指定索引并指定元素填充方法\n",
    "print('②重新指定索引并指定元素填充方法')\n",
    "obj3 = Series(['blue', 'purple', 'yellow'], index = [0, 1, 4])\n",
    "print(obj3)\n",
    "print(obj3.reindex(range(6), method = 'ffill')) #ffill可以实现前向值填充"
   ]
  },
  {
   "cell_type": "code",
   "execution_count": 6,
   "metadata": {
    "collapsed": true
   },
   "outputs": [
    {
     "name": "stdout",
     "output_type": "stream",
     "text": [
      "③对DataFrame重新指定索引\n",
      "   Ohio  Texas  California\n",
      "a     0      1           2\n",
      "c     3      4           5\n",
      "d     6      7           8\n",
      "   Ohio  Texas  California\n",
      "a     0      1           2\n",
      "b     0      0           0\n",
      "c     3      4           5\n",
      "d     6      7           8\n"
     ]
    }
   ],
   "source": [
    "print('③对DataFrame重新指定索引')\n",
    "frame = DataFrame(np.arange(9).reshape(3, 3),\n",
    "                  index = ['a', 'c', 'd'],\n",
    "                  columns = ['Ohio', 'Texas', 'California'])\n",
    "print(frame)\n",
    "frame2 = frame.reindex(['a', 'b', 'c', 'd'],fill_value=0)\n",
    "print(frame2)"
   ]
  },
  {
   "cell_type": "code",
   "execution_count": 7,
   "metadata": {
    "collapsed": false
   },
   "outputs": [
    {
     "name": "stdout",
     "output_type": "stream",
     "text": [
      "④重新指定columns\n",
      "   Texas  Utah  California\n",
      "a      1   NaN           2\n",
      "c      4   NaN           5\n",
      "d      7   NaN           8\n"
     ]
    }
   ],
   "source": [
    "print('④重新指定columns') #使用columns关键字即可重新索引列\n",
    "states = ['Texas', 'Utah', 'California']\n",
    "print(frame.reindex(columns = states))"
   ]
  },
  {
   "cell_type": "code",
   "execution_count": 8,
   "metadata": {
    "collapsed": true
   },
   "outputs": [
    {
     "name": "stdout",
     "output_type": "stream",
     "text": [
      "⑤对DataFrame重新指定索引并指定填元素充方法\n",
      "   Texas  Utah  California\n",
      "a      1   NaN           2\n",
      "b      1   NaN           2\n",
      "c      4   NaN           5\n",
      "d      7   NaN           8\n",
      "   Texas  Utah  California\n",
      "a    1.0   NaN         2.0\n",
      "b    NaN   NaN         NaN\n",
      "d    7.0   NaN         8.0\n",
      "c    4.0   NaN         5.0\n"
     ]
    }
   ],
   "source": [
    "print('⑤对DataFrame重新指定索引并指定填元素充方法')\n",
    "print(frame.reindex(index = ['a', 'b', 'c', 'd'],\n",
    "                    method = 'ffill',\n",
    "                    columns = states))\n",
    "print(frame.ix[['a', 'b', 'd', 'c'], states])\n"
   ]
  },
  {
   "cell_type": "markdown",
   "metadata": {},
   "source": [
    "#### 3-2 丢弃指定轴上的项"
   ]
  },
  {
   "cell_type": "code",
   "execution_count": 9,
   "metadata": {
    "collapsed": true
   },
   "outputs": [
    {
     "name": "stdout",
     "output_type": "stream",
     "text": [
      "①Series根据索引删除元素\n",
      "a    0.0\n",
      "b    1.0\n",
      "d    3.0\n",
      "e    4.0\n",
      "dtype: float64\n",
      "a    0.0\n",
      "b    1.0\n",
      "e    4.0\n",
      "dtype: float64\n"
     ]
    }
   ],
   "source": [
    "print('①Series根据索引删除元素')\n",
    "obj = Series(np.arange(5.), index = ['a', 'b', 'c', 'd', 'e'])\n",
    "new_obj = obj.drop('c')\n",
    "print(new_obj)\n",
    "print(obj.drop(['d', 'c']))"
   ]
  },
  {
   "cell_type": "code",
   "execution_count": 10,
   "metadata": {
    "collapsed": false
   },
   "outputs": [
    {
     "name": "stdout",
     "output_type": "stream",
     "text": [
      "②DataFrame删除元素，可指定索引或列。\n",
      "          one  two  three  four\n",
      "Ohio        0    1      2     3\n",
      "Colorado    4    5      6     7\n",
      "Utah        8    9     10    11\n",
      "New York   12   13     14    15\n",
      "          one  two  three  four\n",
      "Utah        8    9     10    11\n",
      "New York   12   13     14    15\n",
      "          one  three  four\n",
      "Ohio        0      2     3\n",
      "Colorado    4      6     7\n",
      "Utah        8     10    11\n",
      "New York   12     14    15\n",
      "          one  three\n",
      "Ohio        0      2\n",
      "Colorado    4      6\n",
      "Utah        8     10\n",
      "New York   12     14\n"
     ]
    }
   ],
   "source": [
    "print('②DataFrame删除元素，可指定索引或列。')\n",
    "data = DataFrame(np.arange(16).reshape((4, 4)),\n",
    "                  index = ['Ohio', 'Colorado', 'Utah', 'New York'],\n",
    "                  columns = ['one', 'two', 'three', 'four'])\n",
    "print(data)\n",
    "print(data.drop(['Colorado', 'Ohio']))\n",
    "print(data.drop('two', axis = 1))\n",
    "print(data.drop(['two', 'four'], axis = 1))"
   ]
  },
  {
   "cell_type": "markdown",
   "metadata": {},
   "source": [
    "#### 3-3 索引、选取和过滤"
   ]
  },
  {
   "cell_type": "code",
   "execution_count": 11,
   "metadata": {
    "collapsed": true
   },
   "outputs": [
    {
     "name": "stdout",
     "output_type": "stream",
     "text": [
      "①Series的索引，默认数字索引可以工作。\n",
      "a    0.0\n",
      "b    1.0\n",
      "c    2.0\n",
      "d    3.0\n",
      "dtype: float64\n",
      "1.0\n",
      "3.0\n",
      "b    1.0\n",
      "d    3.0\n",
      "dtype: float64\n",
      "a    0.0\n",
      "b    1.0\n",
      "dtype: float64\n"
     ]
    }
   ],
   "source": [
    "print('①Series的索引，默认数字索引可以工作。')\n",
    "obj = Series(np.arange(4.), index = ['a', 'b', 'c', 'd'])\n",
    "print(obj)\n",
    "print(obj['b'])\n",
    "print(obj[3])\n",
    "print(obj[[1, 3]])\n",
    "print(obj[obj < 2])"
   ]
  },
  {
   "cell_type": "code",
   "execution_count": 12,
   "metadata": {
    "collapsed": true
   },
   "outputs": [
    {
     "name": "stdout",
     "output_type": "stream",
     "text": [
      "②Series的数组切片\n",
      "b    1.0\n",
      "c    2.0\n",
      "dtype: float64\n",
      "a    0.0\n",
      "b    5.0\n",
      "c    5.0\n",
      "d    3.0\n",
      "dtype: float64\n"
     ]
    }
   ],
   "source": [
    "print('②Series的数组切片')\n",
    "print(obj['b':'c'])  # 闭区间,这一点和python不同\n",
    "obj['b':'c'] = 5\n",
    "print(obj)"
   ]
  },
  {
   "cell_type": "code",
   "execution_count": 13,
   "metadata": {
    "collapsed": true
   },
   "outputs": [
    {
     "name": "stdout",
     "output_type": "stream",
     "text": [
      "③DataFrame的索引\n",
      "          one  two  three  four\n",
      "Ohio        0    1      2     3\n",
      "Colorado    4    5      6     7\n",
      "Utah        8    9     10    11\n",
      "New York   12   13     14    15\n",
      "Ohio         1\n",
      "Colorado     5\n",
      "Utah         9\n",
      "New York    13\n",
      "Name: two, dtype: int32\n",
      "          three  one\n",
      "Ohio          2    0\n",
      "Colorado      6    4\n",
      "Utah         10    8\n",
      "New York     14   12\n",
      "          one  two  three  four\n",
      "Ohio        0    1      2     3\n",
      "Colorado    4    5      6     7\n",
      "two      5\n",
      "three    6\n",
      "Name: Colorado, dtype: int32\n",
      "          four  one  two\n",
      "Colorado     7    4    5\n",
      "Utah        11    8    9\n",
      "one       8\n",
      "two       9\n",
      "three    10\n",
      "four     11\n",
      "Name: Utah, dtype: int32\n",
      "Ohio        1\n",
      "Colorado    5\n",
      "Utah        9\n",
      "Name: two, dtype: int32\n"
     ]
    }
   ],
   "source": [
    "print('③DataFrame的索引')\n",
    "data = DataFrame(np.arange(16).reshape((4, 4)),\n",
    "                  index = ['Ohio', 'Colorado', 'Utah', 'New York'],\n",
    "                  columns = ['one', 'two', 'three', 'four'])\n",
    "print(data)\n",
    "print(data['two']) # 打印列\n",
    "print(data[['three', 'one']])\n",
    "print(data[:2])\n",
    "print(data.ix['Colorado', ['two', 'three']]) # 指定索引和列\n",
    "print(data.ix[['Colorado', 'Utah'], [3, 0, 1]])\n",
    "print(data.ix[2])  # 打印第2行（从0开始）\n",
    "print(data.ix[:'Utah', 'two']) # 从开始到Utah，第2列。"
   ]
  },
  {
   "cell_type": "code",
   "execution_count": 14,
   "metadata": {
    "collapsed": true
   },
   "outputs": [
    {
     "name": "stdout",
     "output_type": "stream",
     "text": [
      "④根据条件选择\n",
      "          one  two  three  four\n",
      "Colorado    4    5      6     7\n",
      "Utah        8    9     10    11\n",
      "New York   12   13     14    15\n",
      "            one    two  three   four\n",
      "Ohio       True   True   True   True\n",
      "Colorado   True  False  False  False\n",
      "Utah      False  False  False  False\n",
      "New York  False  False  False  False\n",
      "          one  two  three  four\n",
      "Ohio        0    0      0     0\n",
      "Colorado    0    5      6     7\n",
      "Utah        8    9     10    11\n",
      "New York   12   13     14    15\n"
     ]
    }
   ],
   "source": [
    "print('④根据条件选择')\n",
    "print(data[data.three > 5])\n",
    "print(data < 5)  # 打印True或者False\n",
    "data[data < 5] = 0\n",
    "print(data)"
   ]
  },
  {
   "cell_type": "markdown",
   "metadata": {},
   "source": [
    "##### 小结 DataFrame的索引选项\n",
    "\n",
    "|类型         | 说明      | \n",
    "|:------------------------ |:-------------|\n",
    "|obj[val]       |选取DataFrame的单个列或一组列。在一些特殊情况下会比较便利：布尔型数组（过滤 行）、切片（行切片）、布尔型DataFrame（根据条件设置值）。  |\n",
    "|obj.ix[val]     |选取DataFrame的单个行或一组行       | \n",
    "|obj.ix[:, val]   |选取单个列或列子集       |\n",
    "|obj.ix[val1, val] |同时选取行或列   |\n",
    "|reindex方法     |将一个或多个轴匹配到新索引   |\n",
    "|xs方法        |根据标签选取单行或单列，并返回一个Series  |\n",
    "|icol、irow方法   |根据整数位置选取单行或单列，并返回一个Series  |\n",
    "|get_value、set_value方法 |根据行标签或列标签选取单个值  |"
   ]
  },
  {
   "cell_type": "markdown",
   "metadata": {},
   "source": [
    "#### 3-4 算术运算和数据对齐\n"
   ]
  },
  {
   "cell_type": "markdown",
   "metadata": {},
   "source": [
    "* 对不同的索引对象进行算术运算 \n",
    "* 自动数据对齐在不重叠的索引处引入了NA值，缺失值会在算术运算过程中传播\n",
    "* 对于DataFrame，对齐操作会同时发生在行和列上\n",
    "* fill_value参数\n",
    "* DataFrame和Series之间的运算 "
   ]
  },
  {
   "cell_type": "code",
   "execution_count": 15,
   "metadata": {
    "collapsed": true
   },
   "outputs": [
    {
     "name": "stdout",
     "output_type": "stream",
     "text": [
      "①Series的加法\n",
      "a    7.3\n",
      "c   -2.5\n",
      "d    3.4\n",
      "e    1.5\n",
      "dtype: float64\n",
      "a   -2.1\n",
      "c    3.6\n",
      "e   -1.5\n",
      "f    4.0\n",
      "g    3.1\n",
      "dtype: float64\n",
      "a    5.2\n",
      "c    1.1\n",
      "d    NaN\n",
      "e    0.0\n",
      "f    NaN\n",
      "g    NaN\n",
      "dtype: float64\n"
     ]
    }
   ],
   "source": [
    "print('①Series的加法')\n",
    "s1 = Series([7.3, -2.5, 3.4, 1.5], index = ['a', 'c', 'd', 'e'])\n",
    "s2 = Series([-2.1, 3.6, -1.5, 4, 3.1], index = ['a', 'c', 'e', 'f', 'g'])\n",
    "print(s1)\n",
    "print(s2)\n",
    "print(s1 + s2)"
   ]
  },
  {
   "cell_type": "code",
   "execution_count": 16,
   "metadata": {
    "collapsed": true
   },
   "outputs": [
    {
     "name": "stdout",
     "output_type": "stream",
     "text": [
      "②DataFrame加法，索引和列都必须匹配\n",
      "            b    c    d\n",
      "Ohio      0.0  1.0  2.0\n",
      "Texas     3.0  4.0  5.0\n",
      "Colorado  6.0  7.0  8.0\n",
      "        b   d   e\n",
      "Utah    0   1   2\n",
      "Ohio    3   4   5\n",
      "Texas   6   7   8\n",
      "Oregon  9  10  11\n",
      "            b   c     d   e\n",
      "Colorado  NaN NaN   NaN NaN\n",
      "Ohio      3.0 NaN   6.0 NaN\n",
      "Oregon    NaN NaN   NaN NaN\n",
      "Texas     9.0 NaN  12.0 NaN\n",
      "Utah      NaN NaN   NaN NaN\n"
     ]
    }
   ],
   "source": [
    "print('②DataFrame加法，索引和列都必须匹配')\n",
    "df1 = DataFrame(np.arange(9.).reshape((3, 3)),\n",
    "                columns = list('bcd'),\n",
    "                index = ['Ohio', 'Texas', 'Colorado'])\n",
    "df2 = DataFrame(np.arange(12).reshape((4, 3)),\n",
    "                columns = list('bde'),\n",
    "                index = ['Utah', 'Ohio', 'Texas', 'Oregon'])\n",
    "print(df1)\n",
    "print(df2)\n",
    "print(df1 + df2)"
   ]
  },
  {
   "cell_type": "code",
   "execution_count": 17,
   "metadata": {
    "collapsed": true
   },
   "outputs": [
    {
     "name": "stdout",
     "output_type": "stream",
     "text": [
      "③数据填充\n",
      "     a    b     c     d\n",
      "0  0.0  1.0   2.0   3.0\n",
      "1  4.0  5.0   6.0   7.0\n",
      "2  8.0  9.0  10.0  11.0\n",
      "      a     b     c     d     e\n",
      "0   0.0   1.0   2.0   3.0   4.0\n",
      "1   5.0   6.0   7.0   8.0   9.0\n",
      "2  10.0  11.0  12.0  13.0  14.0\n",
      "3  15.0  16.0  17.0  18.0  19.0\n",
      "      a     b     c     d     e\n",
      "0   0.0   2.0   4.0   6.0   4.0\n",
      "1   9.0  11.0  13.0  15.0   9.0\n",
      "2  18.0  20.0  22.0  24.0  14.0\n",
      "3  15.0  16.0  17.0  18.0  19.0\n",
      "     a    b     c     d  e\n",
      "0  0.0  1.0   2.0   3.0  0\n",
      "1  4.0  5.0   6.0   7.0  0\n",
      "2  8.0  9.0  10.0  11.0  0\n"
     ]
    }
   ],
   "source": [
    "print('③数据填充')\n",
    "df1 = DataFrame(np.arange(12.).reshape((3, 4)), columns = list('abcd'))\n",
    "df2 = DataFrame(np.arange(20.).reshape((4, 5)), columns = list('abcde'))\n",
    "print(df1)\n",
    "print(df2)\n",
    "print(df1.add(df2, fill_value = 0))\n",
    "print(df1.reindex(columns = df2.columns, fill_value = 0))"
   ]
  },
  {
   "cell_type": "code",
   "execution_count": 18,
   "metadata": {
    "collapsed": true
   },
   "outputs": [
    {
     "name": "stdout",
     "output_type": "stream",
     "text": [
      "④DataFrame与Series之间的操作\n",
      "[[  0.   1.   2.   3.]\n",
      " [  4.   5.   6.   7.]\n",
      " [  8.   9.  10.  11.]]\n",
      "[ 0.  1.  2.  3.]\n",
      "[[ 0.  0.  0.  0.]\n",
      " [ 4.  4.  4.  4.]\n",
      " [ 8.  8.  8.  8.]]\n",
      "        b   d   e\n",
      "Utah    0   1   2\n",
      "Ohio    3   4   5\n",
      "Texas   6   7   8\n",
      "Oregon  9  10  11\n",
      "b    0\n",
      "d    1\n",
      "e    2\n",
      "Name: Utah, dtype: int32\n",
      "        b  d  e\n",
      "Utah    0  0  0\n",
      "Ohio    3  3  3\n",
      "Texas   6  6  6\n",
      "Oregon  9  9  9\n",
      "          b   d     e   f\n",
      "Utah    0.0 NaN   3.0 NaN\n",
      "Ohio    3.0 NaN   6.0 NaN\n",
      "Texas   6.0 NaN   9.0 NaN\n",
      "Oregon  9.0 NaN  12.0 NaN\n",
      "        b  d  e\n",
      "Utah   -1  0  1\n",
      "Ohio   -1  0  1\n",
      "Texas  -1  0  1\n",
      "Oregon -1  0  1\n"
     ]
    }
   ],
   "source": [
    "print('④DataFrame与Series之间的操作')\n",
    "arr = np.arange(12.).reshape((3, 4))\n",
    "print(arr)\n",
    "print(arr[0])\n",
    "print(arr - arr[0])\n",
    "frame = DataFrame(np.arange(12).reshape((4, 3)),\n",
    "                  columns = list('bde'),\n",
    "                  index = ['Utah', 'Ohio', 'Texas', 'Oregon'])\n",
    "series = frame.ix[0]\n",
    "print(frame)\n",
    "print(series)\n",
    "print(frame - series)\n",
    "series2 = Series(range(3), index = list('bef'))\n",
    "print(frame + series2)\n",
    "series3 = frame['d']\n",
    "print(frame.sub(series3, axis = 0))  # 按列减"
   ]
  },
  {
   "cell_type": "markdown",
   "metadata": {},
   "source": [
    "#### 3-5 函数应用和映射"
   ]
  },
  {
   "cell_type": "markdown",
   "metadata": {},
   "source": [
    "* numpy的ufuncs（元素级数组方法） \n",
    "* DataFrame的apply方法 \n",
    "* 对象的applymap方法（因为Series有一个应用于元素级的map方法） "
   ]
  },
  {
   "cell_type": "code",
   "execution_count": 19,
   "metadata": {
    "collapsed": false
   },
   "outputs": [
    {
     "name": "stdout",
     "output_type": "stream",
     "text": [
      "               b         d         e\n",
      "Utah    0.051423 -0.190328  0.173164\n",
      "Ohio    0.561178  0.504314  0.098294\n",
      "Texas  -1.166611  0.771533 -2.385577\n",
      "Oregon  1.428450 -0.188436 -1.032306\n",
      "               b         d         e\n",
      "Utah    0.051423  0.190328  0.173164\n",
      "Ohio    0.561178  0.504314  0.098294\n",
      "Texas   1.166611  0.771533  2.385577\n",
      "Oregon  1.428450  0.188436  1.032306\n"
     ]
    }
   ],
   "source": [
    "# 1、函数\n",
    "frame = DataFrame(np.random.randn(4, 3),\n",
    "                  columns = list('bde'),\n",
    "                  index = ['Utah', 'Ohio', 'Texas', 'Oregon']\n",
    "                    )\n",
    "print(frame)\n",
    "print(np.abs(frame))"
   ]
  },
  {
   "cell_type": "code",
   "execution_count": 21,
   "metadata": {
    "collapsed": false
   },
   "outputs": [
    {
     "name": "stdout",
     "output_type": "stream",
     "text": [
      "b    2.595061\n",
      "d    0.961861\n",
      "e    2.558741\n",
      "dtype: float64\n",
      "            b         d         e\n",
      "min -1.166611 -0.190328 -2.385577\n",
      "max  1.428450  0.771533  0.173164\n"
     ]
    }
   ],
   "source": [
    "# 2、lambda及其应用\n",
    "f = lambda x:x.max()- x.min()\n",
    "print(frame.apply(f)) #从列方向开始运算\n",
    "def f(x):\n",
    "    return Series([x.min(), x.max()], index = ['min', 'max'])\n",
    "print(frame.apply(f))"
   ]
  },
  {
   "cell_type": "code",
   "execution_count": 22,
   "metadata": {
    "collapsed": false
   },
   "outputs": [
    {
     "name": "stdout",
     "output_type": "stream",
     "text": [
      "            b      d      e\n",
      "Utah     0.05  -0.19   0.17\n",
      "Ohio     0.56   0.50   0.10\n",
      "Texas   -1.17   0.77  -2.39\n",
      "Oregon   1.43  -0.19  -1.03\n",
      "Utah       0.17\n",
      "Ohio       0.10\n",
      "Texas     -2.39\n",
      "Oregon    -1.03\n",
      "Name: e, dtype: object\n"
     ]
    }
   ],
   "source": [
    "# 3、applymap和map\n",
    "_format = lambda x: '%.2f' % x\n",
    "print(frame.applymap(_format))\n",
    "print(frame['e'].map(_format))"
   ]
  },
  {
   "cell_type": "markdown",
   "metadata": {},
   "source": [
    "#### 3-6 排序和排名\n"
   ]
  },
  {
   "cell_type": "markdown",
   "metadata": {},
   "source": [
    "* 对行或列索引进行排序 \n",
    "* 对于DataFrame，根据任意一个轴上的索引进行排序 \n",
    "* 可以指定升序降序 \n",
    "* 按值排序 \n",
    "* 对于DataFrame，可以指定按值排序的列 \n",
    "*  rank函数 "
   ]
  },
  {
   "cell_type": "code",
   "execution_count": 24,
   "metadata": {
    "collapsed": true
   },
   "outputs": [
    {
     "name": "stdout",
     "output_type": "stream",
     "text": [
      "a    1\n",
      "b    2\n",
      "c    3\n",
      "d    0\n",
      "dtype: int32\n",
      "       d  a  b  c\n",
      "one    4  5  6  7\n",
      "three  0  1  2  3\n",
      "       d  a  b  c\n",
      "one    4  5  6  7\n",
      "three  0  1  2  3\n",
      "       d  c  b  a\n",
      "three  0  3  2  1\n",
      "one    4  7  6  5\n"
     ]
    }
   ],
   "source": [
    "# 1、根据索引排序，对于DataFrame可以指定轴\n",
    "obj = Series(range(4), index = ['d', 'a', 'b', 'c'])\n",
    "print(obj.sort_index())\n",
    "frame = DataFrame(np.arange(8).reshape((2, 4)),\n",
    "                  index = ['three', 'one'],\n",
    "                  columns = list('dabc'))\n",
    "print(frame.sort_index())\n",
    "print(frame.sort_index(axis = 0))\n",
    "print(frame.sort_index(axis = 1, ascending = False)) # 降序"
   ]
  },
  {
   "cell_type": "code",
   "execution_count": 25,
   "metadata": {
    "collapsed": false
   },
   "outputs": [
    {
     "name": "stdout",
     "output_type": "stream",
     "text": [
      "2   -3\n",
      "3    2\n",
      "0    4\n",
      "1    7\n",
      "dtype: int64\n"
     ]
    }
   ],
   "source": [
    "# 2、根据值排序\n",
    "obj = Series([4, 7, -3, 2])\n",
    "print(obj.sort_values()) # order已淘汰"
   ]
  },
  {
   "cell_type": "code",
   "execution_count": 28,
   "metadata": {
    "collapsed": true
   },
   "outputs": [
    {
     "name": "stdout",
     "output_type": "stream",
     "text": [
      "   b  a\n",
      "0  4  0\n",
      "1  7  1\n",
      "2 -3  0\n",
      "3  2  1\n",
      "   b  a\n",
      "2 -3  0\n",
      "3  2  1\n",
      "0  4  0\n",
      "1  7  1\n",
      "   b  a\n",
      "2 -3  0\n",
      "0  4  0\n",
      "3  2  1\n",
      "1  7  1\n"
     ]
    }
   ],
   "source": [
    "# 3、值排序,DataFrame指定列排序\n",
    "frame = DataFrame({'b':[4, 7, -3, 2], 'a':[0, 1, 0, 1]},columns=['b','a'])\n",
    "print(frame)\n",
    "print(frame.sort_values(by = 'b')) # sort_index(by = ...)已淘汰\n",
    "print(frame.sort_values(by = ['a', 'b']))"
   ]
  },
  {
   "cell_type": "code",
   "execution_count": 41,
   "metadata": {
    "collapsed": true
   },
   "outputs": [
    {
     "name": "stdout",
     "output_type": "stream",
     "text": [
      "0    6.5\n",
      "1    1.0\n",
      "2    6.5\n",
      "3    4.5\n",
      "4    3.0\n",
      "5    2.0\n",
      "6    4.5\n",
      "dtype: float64\n",
      "0    6.0\n",
      "1    1.0\n",
      "2    7.0\n",
      "3    4.0\n",
      "4    3.0\n",
      "5    2.0\n",
      "6    5.0\n",
      "dtype: float64\n",
      "0    2.0\n",
      "1    7.0\n",
      "2    2.0\n",
      "3    4.0\n",
      "4    5.0\n",
      "5    6.0\n",
      "6    4.0\n",
      "dtype: float64\n",
      "   a    b    c\n",
      "0  0  4.3 -2.0\n",
      "1  1  7.0  5.0\n",
      "2  0 -3.0  8.0\n",
      "3  1  2.0 -2.5\n",
      "     a    b    c\n",
      "0  2.0  3.0  1.0\n",
      "1  1.0  3.0  2.0\n",
      "2  2.0  1.0  3.0\n",
      "3  2.0  3.0  1.0\n"
     ]
    }
   ],
   "source": [
    "# 4、rank，求排名的平均位置(从1开始)\n",
    "obj = Series([7, -5, 7, 4, 2, 0, 4])\n",
    "# 对应排名：-5(1), 0(2), 2(3), 4(4), 4(5), 7(6), 7(7)\n",
    "print(obj.rank())\n",
    "print(obj.rank(method = 'first'))  # 去第一次出现，不求平均值。\n",
    "print(obj.rank(ascending = False, method = 'max')) # 逆序，并取最大值。所以-5的rank是7.\n",
    "frame = DataFrame({'b':[4.3, 7, -3, 2],\n",
    "                  'a':[0, 1, 0, 1],\n",
    "                  'c':[-2, 5, 8, -2.5]})\n",
    "print(frame)\n",
    "print(frame.rank(axis = 1))"
   ]
  },
  {
   "cell_type": "markdown",
   "metadata": {},
   "source": [
    "#### 3-7 带有重复值的索引\n",
    "* 对于重复索引，返回Series，对应单个值的索引则返回标量"
   ]
  },
  {
   "cell_type": "code",
   "execution_count": 50,
   "metadata": {
    "collapsed": true
   },
   "outputs": [
    {
     "name": "stdout",
     "output_type": "stream",
     "text": [
      "a    5\n",
      "a    6\n",
      "b    7\n",
      "b    8\n",
      "c    9\n",
      "dtype: int32\n",
      "False\n",
      "7 8\n",
      "          0         1         2\n",
      "a -0.356556 -0.331428  0.843001\n",
      "a -0.515676 -0.055060 -0.781903\n",
      "b -1.504472  0.486719 -0.884501\n",
      "b -0.287172 -0.425806 -1.683911\n",
      "0   -1.504472\n",
      "1    0.486719\n",
      "2   -0.884501\n",
      "Name: b, dtype: float64\n",
      "0   -0.287172\n",
      "1   -0.425806\n",
      "2   -1.683911\n",
      "Name: b, dtype: float64\n"
     ]
    }
   ],
   "source": [
    "# ①重复的索引\n",
    "obj = Series(range(5,10), index = ['a', 'a', 'b', 'b', 'c'])\n",
    "print(obj)\n",
    "print(obj.index.is_unique) # 判断是非有重复索引\n",
    "print(obj.ix['b'].ix[0],obj.ix['b'].ix[1])\n",
    "df = DataFrame(np.random.randn(4, 3), index = ['a', 'a', 'b', 'b'])\n",
    "print(df)\n",
    "print(df.ix['b'].ix[0])\n",
    "print(df.ix['b'].ix[1])"
   ]
  },
  {
   "cell_type": "markdown",
   "metadata": {},
   "source": [
    "### 4、汇总和计算描述统计\n"
   ]
  },
  {
   "cell_type": "markdown",
   "metadata": {},
   "source": [
    "#### ①常用方法选项 \n",
    "|类型         | 说明      | \n",
    "|:------------------------ |:-------------|\n",
    "|axis       |指定轴，DataFrame的行用0，列用1 |\n",
    "|skipna      |排除缺失值，默认值为True       | \n",
    "|level      |如果轴是层次化索引的（即MultiIndex），则根据level选取分组 | "
   ]
  },
  {
   "cell_type": "markdown",
   "metadata": {},
   "source": [
    "#### ②常用描述和汇总统计函数  I \n",
    "|类型         | 说明      | \n",
    "|:------------------------ |:-------------|\n",
    "|count       |非NA值的数量 |\n",
    "|describe      |针对Series或各DataFrame列计算汇总统计 | \n",
    "|min, max      |计算最小值和最大值  | \n",
    "|argmin, argmax  |计算能够获取到最小值和最大值的索引位置（整数）   |\n",
    "|idxmin, idxmax      |计算能够获取到最小值和最大值的索引值   |\n",
    "|sum      |值的总和   |\n",
    "|mean      |值的平均数   |\n",
    "|median      |值的算术中位数   |\n",
    "|mad      |根据平均值计算平均绝对离差  |"
   ]
  },
  {
   "cell_type": "markdown",
   "metadata": {},
   "source": [
    "#### ③常用描述和汇总统计函数  II \n",
    "|类型         | 说明      | \n",
    "|:------------------------ |:-------------|\n",
    "|var       |样本值的方差  |\n",
    "|std      |样本值的标准差        | \n",
    "|skew      |样本值的偏度（三阶矩）  | \n",
    "|kurt      |样本值的偏度（四阶矩）   | \n",
    "|cumsum      |样本值的累计和   | \n",
    "|cummin, cummax      |样本值的累计最大值和累计最小值   | \n",
    "|cumprod      |样本值的累计积   | \n",
    "|diff      |计算一阶差分   | \n",
    "|pct_change      |计算百分数变化  | "
   ]
  },
  {
   "cell_type": "markdown",
   "metadata": {},
   "source": [
    "* 数值型和非数值型的区别 \n",
    "* NA值被自动排查，除非通过skipna选项 "
   ]
  },
  {
   "cell_type": "code",
   "execution_count": 52,
   "metadata": {
    "collapsed": false
   },
   "outputs": [
    {
     "name": "stdout",
     "output_type": "stream",
     "text": [
      "①求和\n",
      "    one  two\n",
      "a  1.40  NaN\n",
      "b  7.10 -4.5\n",
      "c   NaN  NaN\n",
      "d  0.75 -1.3\n",
      "one    9.25\n",
      "two   -5.80\n",
      "dtype: float64\n",
      "a    1.40\n",
      "b    2.60\n",
      "c    0.00\n",
      "d   -0.55\n",
      "dtype: float64\n"
     ]
    }
   ],
   "source": [
    "print('①求和')\n",
    "df = DataFrame([[1.4, np.nan], [7.1, -4.5], [np.nan, np.nan], [0.75, -1.3]],\n",
    "              index = ['a', 'b', 'c', 'd'],\n",
    "              columns = ['one', 'two'])\n",
    "print(df)\n",
    "print(df.sum())  # 按列求和\n",
    "print(df.sum(axis = 1))  # 按行求和"
   ]
  },
  {
   "cell_type": "code",
   "execution_count": 53,
   "metadata": {
    "collapsed": false
   },
   "outputs": [
    {
     "name": "stdout",
     "output_type": "stream",
     "text": [
      "②平均数\n",
      "a      NaN\n",
      "b    1.300\n",
      "c      NaN\n",
      "d   -0.275\n",
      "dtype: float64\n",
      "a    1.400\n",
      "b    1.300\n",
      "c      NaN\n",
      "d   -0.275\n",
      "dtype: float64\n"
     ]
    }
   ],
   "source": [
    "print('②平均数')\n",
    "print(df.mean(axis = 1, skipna = False)) #skipna排除缺失值，默认是True\n",
    "print(df.mean(axis = 1))"
   ]
  },
  {
   "cell_type": "code",
   "execution_count": 54,
   "metadata": {
    "collapsed": true
   },
   "outputs": [
    {
     "name": "stdout",
     "output_type": "stream",
     "text": [
      "③其它\n",
      "one    b\n",
      "two    d\n",
      "dtype: object\n",
      "    one  two\n",
      "a  1.40  NaN\n",
      "b  8.50 -4.5\n",
      "c   NaN  NaN\n",
      "d  9.25 -5.8\n",
      "            one       two\n",
      "count  3.000000  2.000000\n",
      "mean   3.083333 -2.900000\n",
      "std    3.493685  2.262742\n",
      "min    0.750000 -4.500000\n",
      "25%    1.075000 -3.700000\n",
      "50%    1.400000 -2.900000\n",
      "75%    4.250000 -2.100000\n",
      "max    7.100000 -1.300000\n",
      "count     16\n",
      "unique     3\n",
      "top        a\n",
      "freq       8\n",
      "dtype: object\n"
     ]
    }
   ],
   "source": [
    "print('③其它')\n",
    "print(df.idxmax())\n",
    "print(df.cumsum())\n",
    "print(df.describe())\n",
    "obj = Series(['a', 'a', 'b', 'c'] * 4)\n",
    "print(obj.describe())"
   ]
  },
  {
   "cell_type": "markdown",
   "metadata": {},
   "source": [
    "#### 4-1 相关系数与协方差\n",
    "* 相关系数：相关系数是用以反映变量之间相关关系密切程度的统计指标\n",
    "* 协方差：从直观上来看，协方差表示的是两个变量总体误差的期望。如果两个 变量的变化趋势一致，也就是说如果其中一个大于自身的期望值时另外一个也 大于自身的期望值，那么两个变量之间的协方差就是正值；如果两个变量的变 化趋势相反，即其中一个变量大于自身的期望值时另外一个却小于自身的期望 值，那么两个变量之间的协方差就是负值。 "
   ]
  },
  {
   "cell_type": "code",
   "execution_count": null,
   "metadata": {
    "collapsed": true
   },
   "outputs": [],
   "source": []
  }
 ],
 "metadata": {
  "kernelspec": {
   "display_name": "Python 3",
   "language": "python",
   "name": "python3"
  },
  "language_info": {
   "codemirror_mode": {
    "name": "ipython",
    "version": 3
   },
   "file_extension": ".py",
   "mimetype": "text/x-python",
   "name": "python",
   "nbconvert_exporter": "python",
   "pygments_lexer": "ipython3",
   "version": "3.6.0"
  }
 },
 "nbformat": 4,
 "nbformat_minor": 2
}
